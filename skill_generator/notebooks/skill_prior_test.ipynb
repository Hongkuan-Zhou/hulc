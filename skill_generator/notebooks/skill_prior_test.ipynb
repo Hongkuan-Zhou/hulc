{
 "cells": [
  {
   "cell_type": "code",
   "execution_count": 8,
   "outputs": [],
   "source": [
    "import os\n",
    "from pathlib import Path\n",
    "import shutil\n",
    "import time\n",
    "from typing import Dict, List, Union\n",
    "import skill_generator.models.skill_generator as model_sg\n",
    "import hulc\n",
    "import torch"
   ],
   "metadata": {
    "collapsed": false,
    "pycharm": {
     "name": "#%%\n"
    }
   }
  },
  {
   "cell_type": "code",
   "execution_count": 9,
   "outputs": [],
   "source": [
    "def get_all_checkpoints(experiment_folder: Path) -> List:\n",
    "    if experiment_folder.is_dir():\n",
    "        checkpoint_folder = experiment_folder / \"saved_models\"\n",
    "        if checkpoint_folder.is_dir():\n",
    "            checkpoints = sorted(Path(checkpoint_folder).iterdir(), key=lambda chk: chk.stat().st_mtime)\n",
    "            if len(checkpoints):\n",
    "                return [chk for chk in checkpoints if chk.suffix == \".ckpt\"]\n",
    "    return []"
   ],
   "metadata": {
    "collapsed": false,
    "pycharm": {
     "name": "#%%\n"
    }
   }
  },
  {
   "cell_type": "code",
   "execution_count": 10,
   "outputs": [],
   "source": [
    "def get_last_checkpoint(experiment_folder: Path) -> Union[Path, None]:\n",
    "    # return newest checkpoint according to creation time\n",
    "    checkpoints = get_all_checkpoints(experiment_folder)\n",
    "    if len(checkpoints):\n",
    "        return checkpoints[-1]\n",
    "    return None"
   ],
   "metadata": {
    "collapsed": false,
    "pycharm": {
     "name": "#%%\n"
    }
   }
  },
  {
   "cell_type": "code",
   "execution_count": 22,
   "outputs": [],
   "source": [
    "def _sample(mu: torch.Tensor, scale: torch.Tensor) -> torch.Tensor:\n",
    "    eps = torch.randn(*mu.size()).to(mu)\n",
    "    return mu + scale * eps"
   ],
   "metadata": {
    "collapsed": false,
    "pycharm": {
     "name": "#%%\n"
    }
   }
  },
  {
   "cell_type": "code",
   "execution_count": 23,
   "outputs": [],
   "source": [
    "def _check_direction(dire):\n",
    "    p = torch.clone(dire)\n",
    "    n = torch.clone(dire)\n",
    "    p[dire < 0.] = 0.\n",
    "    n[dire > 0.] = 0.\n",
    "    n = torch.abs(n)\n",
    "    return p, n"
   ],
   "metadata": {
    "collapsed": false,
    "pycharm": {
     "name": "#%%\n"
    }
   }
  },
  {
   "cell_type": "code",
   "execution_count": 24,
   "outputs": [],
   "source": [
    "def skill_classifier(actions, scale=[1.2, 1.3, 1.0]):\n",
    "    gripper_energy = 0.\n",
    "    _, T, _ = actions.shape\n",
    "    diff = torch.sum(actions[:, :, :6], dim=1)\n",
    "    for i in range(T - 1):\n",
    "        gripper_energy += abs(actions[:, i + 1, 6] - actions[:, i, 6])\n",
    "    energy = torch.abs(diff)\n",
    "\n",
    "    translation_right, translation_left = _check_direction(diff[:, 0])\n",
    "    translation_forward, translation_backward = _check_direction(diff[:, 1])\n",
    "    translation_up, translation_down = _check_direction(diff[:, 2])\n",
    "\n",
    "    rotation = (energy[:, 3] + energy[:, 4] + energy[:, 5]) / 3\n",
    "    gripper = gripper_energy\n",
    "\n",
    "    translation_right /= scale[0]\n",
    "    translation_left /= scale[0]\n",
    "    translation_forward /= scale[0]\n",
    "    translation_backward /= scale[0]\n",
    "    translation_up /= scale[0]\n",
    "    translation_down /= scale[0]\n",
    "\n",
    "    rotation /= scale[1]\n",
    "    gripper /= scale[2]\n",
    "\n",
    "    t = torch.stack([translation_left, translation_right, translation_forward, translation_backward, translation_up, translation_down, rotation, gripper], dim=-1)\n",
    "    B, _ = t.shape\n",
    "    skill_types = torch.argmax(t, dim=-1)\n",
    "    return skill_types"
   ],
   "metadata": {
    "collapsed": false,
    "pycharm": {
     "name": "#%%\n"
    }
   }
  },
  {
   "cell_type": "code",
   "execution_count": 25,
   "outputs": [
    {
     "name": "stdout",
     "output_type": "stream",
     "text": [
      "left translation rate:  tensor(0.7897)\n",
      "right translation rate:  tensor(0.8021)\n",
      "forward translation rate:  tensor(0.8540)\n",
      "backward translation rate:  tensor(0.8981)\n",
      "up translation rate:  tensor(0.7459)\n",
      "down translation rate:  tensor(0.7321)\n",
      "rotation rate:  tensor(0.5967)\n",
      "grasp rate:  tensor(0.6919)\n"
     ]
    }
   ],
   "source": [
    "batch = 10000\n",
    "# load_checkpoint\n",
    "sg_chk_path = './sg_runs/2022-12-09/21-34-22'\n",
    "sg_chk_path = Path(hulc.__file__).parent.parent / sg_chk_path\n",
    "chk = get_last_checkpoint(sg_chk_path)\n",
    "skill_generator = getattr(model_sg, 'SkillGenerator').load_from_checkpoint(chk.as_posix())\n",
    "skill_generator.freeze()\n",
    "prior_locator = skill_generator.prior_locator.eval()\n",
    "action_decoder = skill_generator.decoder.eval()\n",
    "\n",
    "priors = prior_locator(repeat=batch)\n",
    "skill_len = torch.tensor(5)\n",
    "\n",
    "tl_mu = priors['p_mu'][:,0,:]\n",
    "tl_scale = priors['p_scale'][:,0,:]\n",
    "tl_sampled = _sample(tl_mu, tl_scale)\n",
    "\n",
    "tr_mu = priors['p_mu'][:,1,:]\n",
    "tr_scale = priors['p_scale'][:,1,:]\n",
    "tr_sampled = _sample(tr_mu, tr_scale)\n",
    "\n",
    "tf_mu = priors['p_mu'][:,2,:]\n",
    "tf_scale = priors['p_scale'][:,2,:]\n",
    "tf_sampled = _sample(tf_mu, tf_scale)\n",
    "\n",
    "tb_mu = priors['p_mu'][:,3,:]\n",
    "tb_scale = priors['p_scale'][:,3,:]\n",
    "tb_sampled = _sample(tb_mu, tb_scale)\n",
    "\n",
    "tu_mu = priors['p_mu'][:,4,:]\n",
    "tu_scale = priors['p_scale'][:,4,:]\n",
    "tu_sampled = _sample(tu_mu, tu_scale)\n",
    "\n",
    "td_mu = priors['p_mu'][:,5,:]\n",
    "td_scale = priors['p_scale'][:,5,:]\n",
    "td_sampled = _sample(td_mu, td_scale)\n",
    "\n",
    "r_mu = priors['p_mu'][:,6,:]\n",
    "r_scale = priors['p_scale'][:,6,:]\n",
    "r_sampled = _sample(r_mu, r_scale)\n",
    "\n",
    "g_mu = priors['p_mu'][:,7,:]\n",
    "g_scale = priors['p_scale'][:,7,:]\n",
    "g_sampled = _sample(g_mu, g_scale)\n",
    "\n",
    "tl_actions = action_decoder(tl_sampled, skill_len.repeat(batch))\n",
    "tr_actions = action_decoder(tr_sampled, skill_len.repeat(batch))\n",
    "tf_actions = action_decoder(tf_sampled, skill_len.repeat(batch))\n",
    "tb_actions = action_decoder(tb_sampled, skill_len.repeat(batch))\n",
    "tu_actions = action_decoder(tu_sampled, skill_len.repeat(batch))\n",
    "td_actions = action_decoder(td_sampled, skill_len.repeat(batch))\n",
    "\n",
    "r_actions = action_decoder(r_sampled, skill_len.repeat(batch))\n",
    "g_actions = action_decoder(g_sampled, skill_len.repeat(batch))\n",
    "\n",
    "rate_tl = torch.sum(skill_classifier(tl_actions) == 0) / batch\n",
    "rate_tr = torch.sum(skill_classifier(tr_actions) == 1) / batch\n",
    "rate_tf = torch.sum(skill_classifier(tf_actions) == 2) / batch\n",
    "rate_tb = torch.sum(skill_classifier(tb_actions) == 3) / batch\n",
    "rate_tu = torch.sum(skill_classifier(tu_actions) == 4) / batch\n",
    "rate_td = torch.sum(skill_classifier(td_actions) == 5) / batch\n",
    "\n",
    "rate_r = torch.sum(skill_classifier(r_actions) == 6) / batch\n",
    "rate_g = torch.sum(skill_classifier(g_actions) == 7) / batch\n",
    "\n",
    "print('left translation rate: ', rate_tl)\n",
    "print('right translation rate: ', rate_tr)\n",
    "print('forward translation rate: ', rate_tf)\n",
    "print('backward translation rate: ', rate_tb)\n",
    "print('up translation rate: ', rate_tu)\n",
    "print('down translation rate: ', rate_td)\n",
    "\n",
    "print('rotation rate: ', rate_r)\n",
    "print('grasp rate: ', rate_g)"
   ],
   "metadata": {
    "collapsed": false,
    "pycharm": {
     "name": "#%%\n"
    }
   }
  },
  {
   "cell_type": "code",
   "execution_count": 86,
   "outputs": [],
   "source": [],
   "metadata": {
    "collapsed": false,
    "pycharm": {
     "name": "#%%\n"
    }
   }
  },
  {
   "cell_type": "code",
   "execution_count": null,
   "outputs": [],
   "source": [],
   "metadata": {
    "collapsed": false,
    "pycharm": {
     "name": "#%%\n"
    }
   }
  }
 ],
 "metadata": {
  "kernelspec": {
   "name": "hulc",
   "language": "python",
   "display_name": "hulc"
  },
  "language_info": {
   "codemirror_mode": {
    "name": "ipython",
    "version": 2
   },
   "file_extension": ".py",
   "mimetype": "text/x-python",
   "name": "python",
   "nbconvert_exporter": "python",
   "pygments_lexer": "ipython2",
   "version": "2.7.6"
  }
 },
 "nbformat": 4,
 "nbformat_minor": 0
}